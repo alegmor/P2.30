{
 "cells": [
  {
   "cell_type": "markdown",
   "id": "0e9fce67",
   "metadata": {},
   "source": [
    "## <center> Heat Transfer\n",
    "### <center> Introduction to Conduction\n",
    "### <center> Fundamentals of Heat and Mass Transfer 6th edition"
   ]
  },
  {
   "cell_type": "markdown",
   "id": "9885dbbf",
   "metadata": {},
   "source": [
    "### Problem 2.30\n",
    "\n",
    "<p style=\"font-family: times, serif; font-size:12pt; font-style:italic\">\n",
    "<strong>  One-dimensional, steady-state conduction with no internal energy generation $\\dot{q}=0$ is occurring in a plane wall of constant thermal conductivity.</strong>\n",
    "</p>\n",
    "<pre>\n",
    "\n",
    "<div>\n",
    "<img src=\"Images/p230.jpg\" width=\"380\"/>\n",
    "</div>"
   ]
  },
  {
   "cell_type": "markdown",
   "id": "20d86112",
   "metadata": {},
   "source": [
    "\n",
    "<p style=\"font-family: times, serif; font-size:12pt; font-style:italic\">\n",
    "<strong> (a) Is the prescribed temperature distribution possible? Briefly explain your reasoning.</strong>\n",
    "</p>\n",
    "\n",
    "##### Solution: \n",
    "\n",
    "The general form of the conservation of energy requirement is\n",
    "\n",
    "$$\\dot{E}_{in} + \\dot{E}_{g} -\\dot{E}_{out} = \\dot{E}_{st},$$\n",
    "\n",
    "It is assumed that there is not internal energy generation $\\dot{E}_{g}$ and $\\dot{E}_{st}$. Hence, the above equation is \n",
    "\n",
    "$$\\dot{E}_{in}  -\\dot{E}_{out} = 0.$$\n",
    "\n",
    "$$q_{in}^{\"}-q_{out}^{\"}=0 $$\n",
    "\n",
    "The rate of heat transfer entering the wall $q^{\"}_{in}$ is \n",
    "\n",
    "$$q_{in}^{\"} = -k \\dfrac{dT}{dx}\\Bigg|_{x=L} = -k \\dfrac{T(L)-T(0)}{L} = -\\left( 4.5 \\dfrac{W}{mK} \\right) \\dfrac{120 ^\\circ{C}-0^\\circ{C}}{0.18 m} $$\n",
    "\n",
    "The rate of heat transfer leaving the wall $q^{\"}_{out}$ is \n",
    "\n",
    "$$q^{\"}_{out}= h \\left[ T(L)- T_{\\infty} \\right]$$"
   ]
  },
  {
   "cell_type": "code",
   "execution_count": 24,
   "id": "b947571d",
   "metadata": {
    "code_folding": [
     0
    ]
   },
   "outputs": [
    {
     "name": "stdout",
     "output_type": "stream",
     "text": [
      "The conductive heat flux qin  = -3000 W/m^2\n",
      "The convective heat flux qout = 3000 W/m^2\n"
     ]
    }
   ],
   "source": [
    "# The conductive and convective heat fluxes per unit area are\n",
    "\n",
    "TL = 120\n",
    "T0 = 0\n",
    "Ti = 20\n",
    "L  = 0.18\n",
    "k  = 4.5\n",
    "h  = 30\n",
    "\n",
    "def qx_c(k,TL,T0,L):\n",
    "    return round(-k*((TL-T0)/(L)))\n",
    "    #return print(\"The conductive heat flux q'x = {} W/m^2\".format(round(-k*((TL-T0)/(L)))))\n",
    "\n",
    "def qx_cv(h,TL,Ti):\n",
    "    #return print(\"The convective heat flux q'cv = {} W/m^2\".format(round(h*(TL-Ti))))\n",
    "    return round(h*(TL-Ti))\n",
    "\n",
    "print(\"The conductive heat flux qin  = {} W/m^2\".format(qx_c(k,TL,T0,L)))\n",
    "print(\"The convective heat flux qout = {} W/m^2\".format(qx_cv(h,TL,Ti)))"
   ]
  },
  {
   "cell_type": "markdown",
   "id": "963526a6",
   "metadata": {},
   "source": [
    "Substituting $q^{\"}_{in}$ and $q^{\"}_{out}$ into the the energy balance of equation (3), we obtain"
   ]
  },
  {
   "cell_type": "code",
   "execution_count": 30,
   "id": "8b2a752c",
   "metadata": {
    "code_folding": [
     0
    ]
   },
   "outputs": [
    {
     "name": "stdout",
     "output_type": "stream",
     "text": [
      "q\"in-q\"out = -6000 W/m^2\n"
     ]
    }
   ],
   "source": [
    "#\n",
    "print('q\"in-q\"out = {} W/m^2'.format(qx_c(k,TL,T0,L)-qx_cv(h,TL,Ti)))"
   ]
  },
  {
   "cell_type": "markdown",
   "id": "0cb65159",
   "metadata": {},
   "source": [
    "From this result we can conclude that the temperature distribution of the figure does not satisfies the energy balance."
   ]
  },
  {
   "cell_type": "markdown",
   "id": "be0c50a7",
   "metadata": {},
   "source": [
    "<p style=\"font-family: times, serif; font-size:12pt; font-style:italic\">\n",
    "<strong>(b) With the temperature at $x=0$ and the fluid temperature fixed at $T(0)= 0 ^\\circ{C}$ and $T_{\\infty}=20 ^\\circ{C}$, respectively, compute and plot the temperature at $x=L$, $T(L)$, as a function of $h$ for $10 \\leq h \\leq 100$ W/m$^2$ K. Briefly explain the results.</strong>\n",
    "</p> "
   ]
  },
  {
   "cell_type": "code",
   "execution_count": 76,
   "id": "f4a49467",
   "metadata": {
    "code_folding": [
     0
    ]
   },
   "outputs": [
    {
     "data": {
      "image/png": "[encoded data removed]",
      "text/plain": [
       "<Figure size 432x288 with 1 Axes>"
      ]
     },
     "metadata": {
      "needs_background": "light"
     },
     "output_type": "display_data"
    }
   ],
   "source": [
    "#plot\n",
    "T0 = 0\n",
    "Ti = 20\n",
    "L  = 0.18\n",
    "k  = 4.5\n",
    "h  = np.arange(10,101)\n",
    "\n",
    "TL = (h*Ti+(k*T0/L))/(h+(k/L))\n",
    "\n",
    "import matplotlib.pyplot as plt\n",
    "\n",
    "plt.plot(h,TL)\n",
    "plt.scatter(h[20],TL[20],c='k',label=\"$h=30 W/m^2 K$\")\n",
    "plt.ylim(4,18)\n",
    "plt.ylabel(\"Surface temperature $T(L)[^\\circ{C}]$\")\n",
    "plt.xlabel(\"Convection coefficient $h$ [$W/m^2 K$]\")\n",
    "plt.legend(loc='upper left')\n",
    "plt.grid()"
   ]
  }
 ],
 "metadata": {
  "kernelspec": {
   "display_name": "Python 3 (ipykernel)",
   "language": "python",
   "name": "python3"
  },
  "language_info": {
   "codemirror_mode": {
    "name": "ipython",
    "version": 3
   },
   "file_extension": ".py",
   "mimetype": "text/x-python",
   "name": "python",
   "nbconvert_exporter": "python",
   "pygments_lexer": "ipython3",
   "version": "3.8.10"
  },
  "latex_envs": {
   "LaTeX_envs_menu_present": true,
   "autoclose": false,
   "autocomplete": true,
   "bibliofile": "biblio.bib",
   "cite_by": "apalike",
   "current_citInitial": 1,
   "eqLabelWithNumbers": true,
   "eqNumInitial": 1,
   "hotkeys": {
    "equation": "Ctrl-E",
    "itemize": "Ctrl-I"
   },
   "labels_anchors": false,
   "latex_user_defs": false,
   "report_style_numbering": false,
   "user_envs_cfg": false
  },
  "varInspector": {
   "cols": {
    "lenName": 16,
    "lenType": 16,
    "lenVar": 40
   },
   "kernels_config": {
    "python": {
     "delete_cmd_postfix": "",
     "delete_cmd_prefix": "del ",
     "library": "var_list.py",
     "varRefreshCmd": "print(var_dic_list())"
    },
    "r": {
     "delete_cmd_postfix": ") ",
     "delete_cmd_prefix": "rm(",
     "library": "var_list.r",
     "varRefreshCmd": "cat(var_dic_list()) "
    }
   },
   "types_to_exclude": [
    "module",
    "function",
    "builtin_function_or_method",
    "instance",
    "_Feature"
   ],
   "window_display": false
  }
 },
 "nbformat": 4,
 "nbformat_minor": 5
}
